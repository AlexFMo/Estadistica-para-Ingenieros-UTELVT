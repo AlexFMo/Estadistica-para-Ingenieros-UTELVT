{
 "cells": [
  {
   "cell_type": "markdown",
   "metadata": {},
   "source": [
    "# Distribuciones de Probabilidad\n",
    "\n",
    "#### Códigos y ejercicios\n",
    "\n",
    "* Distribución de Bernoulli\n",
    "* Distribución Binomial\n",
    "* Distribución de Poisson\n",
    "* Distribución Normal\n"
   ]
  },
  {
   "cell_type": "code",
   "execution_count": 1,
   "metadata": {},
   "outputs": [],
   "source": [
    "import matplotlib.pyplot as plt\n",
    "import numpy as np"
   ]
  },
  {
   "cell_type": "code",
   "execution_count": 2,
   "metadata": {},
   "outputs": [],
   "source": [
    "from scipy import stats\n",
    "\n",
    "#Tambien se puede importar las distribuciones una por una\n",
    "#from scipy.stats import bernoulli"
   ]
  },
  {
   "cell_type": "markdown",
   "metadata": {},
   "source": [
    "## Distribución de Bernoulli"
   ]
  },
  {
   "cell_type": "markdown",
   "metadata": {},
   "source": [
    "Primera forma de graficar"
   ]
  },
  {
   "cell_type": "code",
   "execution_count": 3,
   "metadata": {},
   "outputs": [
    {
     "data": {
      "image/png": "[encoded data removed]",
      "text/plain": [
       "<Figure size 432x288 with 1 Axes>"
      ]
     },
     "metadata": {
      "needs_background": "light"
     },
     "output_type": "display_data"
    }
   ],
   "source": [
    "ab = stats.bernoulli(0.2)          #Definir variable que sigue distribucion de Bernoulli\n",
    "X = [0, 1]                         #Datos para el eje X\n",
    "\n",
    "#plt.bar(X, ab.pmf(X))              #Grafico con opciones por defecto    \n",
    "\n",
    "plt.bar(X, ab.pmf(X), width=0.1, color='green')      #pmf = Probability Mass Function\n",
    "plt.show()"
   ]
  },
  {
   "cell_type": "markdown",
   "metadata": {},
   "source": [
    "Segunda forma de graficar"
   ]
  },
  {
   "cell_type": "code",
   "execution_count": 4,
   "metadata": {},
   "outputs": [
    {
     "data": {
      "image/png": "[encoded data removed]",
      "text/plain": [
       "<Figure size 432x288 with 1 Axes>"
      ]
     },
     "metadata": {
      "needs_background": "light"
     },
     "output_type": "display_data"
    }
   ],
   "source": [
    "x = [0, 1]                         #Datos para el eje X\n",
    "p = 0.8                            #Probabilidad de exito\n",
    "\n",
    "#plt.bar(x, stats.bernoulli.pmf(x, p))            #Grafico con opciones por defecto \n",
    "\n",
    "plt.bar(x, stats.bernoulli.pmf(x, p), width=0.1, color=['red','blue'], edgecolor='black')\n",
    "plt.show()"
   ]
  },
  {
   "cell_type": "code",
   "execution_count": 7,
   "metadata": {},
   "outputs": [
    {
     "data": {
      "text/plain": [
       "0.15999999999999998"
      ]
     },
     "execution_count": 7,
     "metadata": {},
     "output_type": "execute_result"
    }
   ],
   "source": [
    "#Para calcular la varianza de una variable aleatoria Bernoulli.\n",
    "p*(1-p)"
   ]
  },
  {
   "cell_type": "code",
   "execution_count": null,
   "metadata": {},
   "outputs": [],
   "source": []
  },
  {
   "cell_type": "markdown",
   "metadata": {},
   "source": [
    "## Distribución Binomial"
   ]
  },
  {
   "cell_type": "markdown",
   "metadata": {},
   "source": [
    "Calculos de la funcion de distribución Binomial"
   ]
  },
  {
   "cell_type": "code",
   "execution_count": 5,
   "metadata": {},
   "outputs": [],
   "source": [
    "n1 = 8\n",
    "p1 = 1/6\n",
    "X1 = stats.binom(n1, p1)   # Declarar X como variable aleatoria binomial\n"
   ]
  },
  {
   "cell_type": "code",
   "execution_count": 6,
   "metadata": {},
   "outputs": [
    {
     "name": "stdout",
     "output_type": "stream",
     "text": [
      "0.23256803936137785\n",
      "0.8651531064243256\n"
     ]
    }
   ],
   "source": [
    "print(X1.pmf(0))           # P(X = 0)          #pmf = Probability Mass Function\n",
    "print(X1.cdf(2))           # P(X <= 2)         #cdf = Funcion de Distribucion Acumulativa  \n",
    "\n",
    "#Otros valores que se pueden calcular\n",
    "#print(X.mean())           # E[X]\n",
    "#print(X.var())            # Var(X)\n",
    "#print(X.std())            # Std(X)\n",
    "#print(X.rvs())            # Obtener un numero al azar de la variable X\n",
    "#print(X.rvs(10))          # Obtener 10 numeros al azar de la variable X"
   ]
  },
  {
   "cell_type": "markdown",
   "metadata": {},
   "source": [
    "Grafico para la funcion binomial"
   ]
  },
  {
   "cell_type": "code",
   "execution_count": 7,
   "metadata": {},
   "outputs": [
    {
     "data": {
      "image/png": "[encoded data removed]",
      "text/plain": [
       "<Figure size 432x288 with 1 Axes>"
      ]
     },
     "metadata": {
      "needs_background": "light"
     },
     "output_type": "display_data"
    }
   ],
   "source": [
    "n2 = 10\n",
    "p2 = 0.4\n",
    "\n",
    "# Crear una lista de ensayos (Lista del 0 al 20)\n",
    "ensayos = list(range(n2 + 1))                   # Python no incluye el limite derecho en el rango     \n",
    "\n",
    "# Lista de valores de la funcion de masa\n",
    "dist_bin = [stats.binom.pmf(e, n2, p2) for e in ensayos ]\n",
    "\n",
    "# Grafico \n",
    "plt.bar(ensayos, dist_bin)\n",
    "plt.show()"
   ]
  },
  {
   "cell_type": "code",
   "execution_count": null,
   "metadata": {},
   "outputs": [],
   "source": []
  },
  {
   "cell_type": "markdown",
   "metadata": {},
   "source": [
    "## Distribución de Poisson"
   ]
  },
  {
   "cell_type": "code",
   "execution_count": 8,
   "metadata": {},
   "outputs": [
    {
     "name": "stdout",
     "output_type": "stream",
     "text": [
      "0.18044704431548356\n",
      "1\n"
     ]
    }
   ],
   "source": [
    "X2 = stats.poisson(2)  # Declarar X2 como una variable aleatoria de Poisson\n",
    "print(X2.pmf(3))       # P(X2 = 3)\n",
    "print(X2.rvs())        # Obtener un numero al azar de X2"
   ]
  },
  {
   "cell_type": "code",
   "execution_count": 9,
   "metadata": {},
   "outputs": [
    {
     "data": {
      "image/png": "[encoded data removed]",
      "text/plain": [
       "<Figure size 432x288 with 1 Axes>"
      ]
     },
     "metadata": {
      "needs_background": "light"
     },
     "output_type": "display_data"
    }
   ],
   "source": [
    "#x4= np.arange(0,20,1)\n",
    "n3 = 24\n",
    "lam = 10\n",
    "\n",
    "x3 = list(range(n3 + 1))  \n",
    "\n",
    "plt.bar(x3, stats.poisson.pmf(x3, lam))\n",
    "plt.ylim([0, 0.35])\n",
    "\n",
    "plt.show()\n",
    "\n",
    "\n",
    "#plt.xlim([80, 220])\n",
    "\n"
   ]
  },
  {
   "cell_type": "code",
   "execution_count": null,
   "metadata": {},
   "outputs": [],
   "source": []
  },
  {
   "cell_type": "markdown",
   "metadata": {},
   "source": [
    "## Distribución Normal"
   ]
  },
  {
   "cell_type": "code",
   "execution_count": 3,
   "metadata": {},
   "outputs": [
    {
     "name": "stdout",
     "output_type": "stream",
     "text": [
      "0.25394135864416223\n",
      "0.7308496254906387\n",
      "9.04836902361211\n"
     ]
    }
   ],
   "source": [
    "media = 10\n",
    "desv = 1.3\n",
    "\n",
    "A = stats.norm(media, desv)  #Declarar A como una variable normal con media \"media\" y desviacion estandar \"desv\"\n",
    "print(A.pdf(10.8))       # f(10.8), densidad de probabiliad a 10.8\n",
    "print(A.cdf(10.8))       # F(10.8),  P(Y < 10.8)  Densidad de probabilidad acumulada\n",
    "print(A.rvs())        # Get a random sample from A"
   ]
  },
  {
   "cell_type": "code",
   "execution_count": 4,
   "metadata": {},
   "outputs": [
    {
     "name": "stdout",
     "output_type": "stream",
     "text": [
      "0.6808224912174442\n"
     ]
    }
   ],
   "source": [
    "# Para utilizar como tabla z (Utilizando datos del primer ejemplo de la diapositiva)\n",
    "\n",
    "B = stats.norm(0, 1)     #Declarar B como una variable normal con media 0 y desviacion estandar 1\n",
    "print(B.cdf(0.47))       # F(0.47), (Y < 0.47) Densidad de probabilidad acumulada\n"
   ]
  },
  {
   "cell_type": "code",
   "execution_count": 24,
   "metadata": {},
   "outputs": [
    {
     "name": "stdout",
     "output_type": "stream",
     "text": [
      "0.9162066775849856\n",
      "0.08379332241501436\n",
      "0.13857950013554465\n",
      "0.13857950013554465\n",
      "0.5\n"
     ]
    }
   ],
   "source": [
    "# Para utilizar como tabla z \n",
    "\n",
    "X3 = stats.norm(0, 1)     #Declarar X3 como una variable normal con media 0 y desviacion estandar 1\n",
    "print(X3.cdf(1.38))       #Densidad de probabilidad acumulada\n",
    "print(1-X3.cdf(1.38))      # Area de a la derecha de la curva\n",
    "\n",
    "print(X3.cdf(1.28)-X3.cdf(0.71))      #Area dentro de un intervalo\n",
    "\n",
    "z1 = X3.cdf(1.28)            #Otra forma de calcular Area dentro de un intervalo\n",
    "z2 = X3.cdf(0.71)\n",
    "print(z1-z2)\n",
    "\n",
    "print(X3.cdf(0))       \n"
   ]
  },
  {
   "cell_type": "code",
   "execution_count": 26,
   "metadata": {},
   "outputs": [
    {
     "data": {
      "image/png": "[encoded data removed]",
      "text/plain": [
       "<Figure size 432x288 with 1 Axes>"
      ]
     },
     "metadata": {
      "needs_background": "light"
     },
     "output_type": "display_data"
    }
   ],
   "source": [
    "x_axis1 = np.arange(30, 70, 0.1)\n",
    "  \n",
    "mean1 = 50\n",
    "sd1 = 5\n",
    "\n",
    "# Calculating mean and standard deviation\n",
    "#mean2 = statistics.mean(x_axis2)\n",
    "#sd2 = statistics.stdev(x_axis2)\n",
    "  \n",
    "plt.plot(x_axis1, stats.norm.pdf(x_axis1, mean1, sd1))\n",
    "plt.show()"
   ]
  },
  {
   "cell_type": "code",
   "execution_count": null,
   "metadata": {},
   "outputs": [],
   "source": []
  },
  {
   "cell_type": "code",
   "execution_count": null,
   "metadata": {},
   "outputs": [],
   "source": []
  },
  {
   "cell_type": "code",
   "execution_count": null,
   "metadata": {},
   "outputs": [],
   "source": []
  },
  {
   "cell_type": "markdown",
   "metadata": {},
   "source": [
    "# Ejercicios"
   ]
  },
  {
   "cell_type": "markdown",
   "metadata": {},
   "source": [
    "\n",
    "### 1. Se toma una muestra de cinco elementos de una población grande en la cual 10% de los elementos está defectuoso.\n",
    "\n",
    "a) Determine la probabilidad de que ninguno de los elementos de la muestra esté defectuoso.\n",
    "\n",
    "b) Determine la probabilidad de que sólo uno de ellos tenga defectos.\n",
    "\n",
    "c) Determine la probabilidad de que uno o más de los elementos de la muestra estén defectuosos.\n",
    "\n",
    "d) Determine la probabilidad de que menos de dos elementos de la muestra tenga defectos."
   ]
  },
  {
   "cell_type": "markdown",
   "metadata": {},
   "source": [
    "### Solución Ejercicio 1\n",
    "\n",
    "Muestra en la cual 10% de elementos tienen defectos. Al tomar un elemento de la muestra, se tendrán 2 resultados: Que el elemento esté defectuoso o que no esté defectuoso. Hay 5 elementos entonces pueden haber 5 ensayos. \n",
    "\n",
    "Por lo tanto, la distribución es binomial"
   ]
  },
  {
   "cell_type": "code",
   "execution_count": 3,
   "metadata": {},
   "outputs": [],
   "source": [
    "#x_Ej1 = elementos de la muestra\n",
    "#caso de exito = tomar un elemento defectuoso\n",
    "\n",
    "n_Ej1 = 5                    #Numero de ensayos\n",
    "p_Ej1 = 10/100               #Probabilidad de exito\n",
    "\n",
    "x_Ej1 = stats.binom(n_Ej1, p_Ej1)   # Declarar X como variable aleatoria binomial"
   ]
  },
  {
   "cell_type": "code",
   "execution_count": 4,
   "metadata": {},
   "outputs": [
    {
     "name": "stdout",
     "output_type": "stream",
     "text": [
      "0.59049\n",
      "0.32804999999999995\n",
      "0.40951000000000004\n",
      "0.91854\n",
      "0.9185399999999999\n"
     ]
    }
   ],
   "source": [
    "#a) Determine la probabilidad de que ninguno de los elementos de la muestra esté defectuoso.\n",
    "\n",
    "print(x_Ej1.pmf(0))           # P(X = 0)         \n",
    "\n",
    "#b) Determine la probabilidad de que sólo uno de ellos tenga defectos.\n",
    "\n",
    "print(x_Ej1.pmf(1))           # P(X = 1) \n",
    "\n",
    "#c) Determine la probabilidad de que uno o más de los elementos de la muestra estén defectuosos.\n",
    "\n",
    "c1 = x_Ej1.cdf(5)\n",
    "d1 = x_Ej1.pmf(0)\n",
    "print(c1-d1)                  # P(X >= 1),   X = 1,2,3,4,5\n",
    "\n",
    "#d) Determine la probabilidad de que menos de dos elementos de la muestra tenga defectos.\n",
    "\n",
    "#Primera forma de calcular\n",
    "print(x_Ej1.cdf(1))           # P(X <= 1)  \n",
    "\n",
    "#Segunda forma de calcular\n",
    "a1 = x_Ej1.pmf(0)             # P(X = 0)         \n",
    "b1 = x_Ej1.pmf(1)             # P(X = 1) \n",
    "print(a1+b1)                  # P(X <= 1) \n"
   ]
  },
  {
   "cell_type": "code",
   "execution_count": 5,
   "metadata": {},
   "outputs": [
    {
     "data": {
      "image/png": "[encoded data removed]",
      "text/plain": [
       "<Figure size 432x288 with 1 Axes>"
      ]
     },
     "metadata": {
      "needs_background": "light"
     },
     "output_type": "display_data"
    }
   ],
   "source": [
    "# Grafico \n",
    "\n",
    "ensayos_Ej1 = list(range(n_Ej1 + 1))              \n",
    "dist_bin_Ej1 = [stats.binom.pmf(e, n_Ej1, p_Ej1) for e in ensayos_Ej1 ]\n",
    "\n",
    "\n",
    "plt.bar(ensayos_Ej1, dist_bin_Ej1)\n",
    "plt.show()"
   ]
  },
  {
   "cell_type": "markdown",
   "metadata": {},
   "source": [
    "### 2. En un cargamento grande de llantas de automóvil, 5% tiene cierta imperfección. Se eligen aleatoriamente cuatro llantas para instalarlas en el automóvil.\n",
    "\n",
    "a) ¿Cuál es la probabilidad de que ninguna de las llantas\n",
    "tenga imperfección?\n",
    "\n",
    "b) ¿Cuál es la probabilidad de que sólo una de las llantas\n",
    "tenga imperfección?\n",
    "\n",
    "c) ¿Cuál es la probabilidad de que una o más de las llantas\n",
    "tenga imperfección?"
   ]
  },
  {
   "cell_type": "markdown",
   "metadata": {},
   "source": [
    "### Solución Ejercicio 2"
   ]
  },
  {
   "cell_type": "markdown",
   "metadata": {},
   "source": [
    "Numero de ensayos = 4\n",
    "\n",
    "Caso de exito = seleccionar una llanta y que ésta tenga imperfección\n",
    "\n",
    "Probabilidad de éxito = 0.05\n",
    "\n",
    "Se tiene dos posibles resultados.Numero de ensayos es pequeño y probabilidad de exito no es tan pequeña, Por lo tanto, la distribución es Binomial"
   ]
  },
  {
   "cell_type": "code",
   "execution_count": 6,
   "metadata": {},
   "outputs": [],
   "source": [
    "n_Ej2 = 4                    #Numero de ensayos\n",
    "p_Ej2 = 0.05               #Probabilidad de exito\n",
    "\n",
    "x_Ej2 = stats.binom(n_Ej2, p_Ej2)   # Declarar X como variable aleatoria binomial"
   ]
  },
  {
   "cell_type": "code",
   "execution_count": 10,
   "metadata": {},
   "outputs": [
    {
     "name": "stdout",
     "output_type": "stream",
     "text": [
      "0.81450625\n",
      "0.17147500000000007\n",
      "0.1854937500000001\n",
      "0.18549375\n"
     ]
    }
   ],
   "source": [
    "#a) ¿Cuál es la probabilidad de que ninguna de las llantas tenga imperfección?\n",
    "print(x_Ej2.pmf(0))           # P(X = 0)   \n",
    "\n",
    "#b) ¿Cuál es la probabilidad de que sólo una de las llantas tenga imperfección?\n",
    "print(x_Ej2.pmf(1))           # P(X = 1)   \n",
    "\n",
    "#c) ¿Cuál es la probabilidad de que una o más de las llantas tenga imperfección?\n",
    "\n",
    " #Primera forma\n",
    "a2 = x_Ej2.pmf(1)\n",
    "b2 = x_Ej2.pmf(2)\n",
    "c2 = x_Ej2.pmf(3)\n",
    "d2 = x_Ej2.pmf(4)\n",
    "print(a2+b2+c2+d2)           # P(X = 1) + P(X = 2) + P(X = 3) + P(X = 4)   \n",
    "\n",
    " #Segunda forma\n",
    "    \n",
    "#P(X >= 1) = Probabilidad Acumulada hasta X = 4 - P(X = 0)\n",
    "    \n",
    "e2 = x_Ej2.cdf(4)\n",
    "f2 = x_Ej2.pmf(0)\n",
    "print(e2-f2)                  # P(X >= 1),   X = 1,2,3,4,5\n",
    "\n",
    "    "
   ]
  },
  {
   "cell_type": "markdown",
   "metadata": {},
   "source": [
    "### 3. La concentración de partículas en una suspensión es 2 por mL.  Se agita por completo la suspensión, y posteriormente se extraen 3 mL. Sea X el número de partículas que son retiradas. \n",
    "\n",
    "Determine\n",
    "\n",
    "a) P(X = 5)\n",
    "\n",
    "b) P(X ≤ 2)\n",
    "\n",
    "c) P(X > 1)"
   ]
  },
  {
   "cell_type": "markdown",
   "metadata": {},
   "source": [
    "### Solución Ejercicio 3"
   ]
  },
  {
   "cell_type": "markdown",
   "metadata": {},
   "source": [
    "Distribución de Poisson"
   ]
  },
  {
   "cell_type": "code",
   "execution_count": 19,
   "metadata": {},
   "outputs": [
    {
     "name": "stdout",
     "output_type": "stream",
     "text": [
      "0.16062314104797995\n",
      "0.061968804416658946\n",
      "0.9826487347633355\n",
      "0.5889515171759268\n"
     ]
    }
   ],
   "source": [
    "#Concentración = 2 partículas/mL\n",
    "#Si se extraen 3 mL, debe haber en promedio (2*3) = 6 partículas\n",
    "\n",
    "lam_3 = 6\n",
    "X3 = stats.poisson(lam_3) # Declarar X3 como una variable aleatoria de Poisson\n",
    "\n",
    "\n",
    "# a) P(X = 5)\n",
    "print(X3.pmf(5))       # P(X3 = 5)\n",
    "\n",
    "# b) P(X ≤ 2)\n",
    "a3 = X3.pmf(0)\n",
    "b3 = X3.pmf(1)\n",
    "c3 = X3.pmf(2)\n",
    "print(a3+b3+c3)           # P(X = 0) + P(X = 1) + P(X = 2)   \n",
    "\n",
    "\n",
    "# c) P(X > 1)\n",
    "d3 = X3.pmf(0)+X3.pmf(1)\n",
    "print(1-d3)\n",
    "\n",
    "#e3 = X3.pmf(2) + X3.pmf(3)+ X3.pmf(4)+ X3.pmf(5)+ X3.pmf(6)\n",
    "#print(e3)\n",
    "#Calcular de este forma no es correcto ya que X puede tomar valores mayores a 6"
   ]
  },
  {
   "cell_type": "code",
   "execution_count": 22,
   "metadata": {},
   "outputs": [
    {
     "data": {
      "image/png": "[encoded data removed]",
      "text/plain": [
       "<Figure size 432x288 with 1 Axes>"
      ]
     },
     "metadata": {
      "needs_background": "light"
     },
     "output_type": "display_data"
    }
   ],
   "source": [
    "#x4= np.arange(0,20,1)\n",
    "n_Ej3 = 20\n",
    "lam_3 = 6\n",
    "\n",
    "x_Ej3 = list(range(n_Ej3 + 1))  \n",
    "\n",
    "plt.bar(x_Ej3, stats.poisson.pmf(x_Ej3, lam_3))\n",
    "#plt.ylim([0, 0.35])\n",
    "\n",
    "plt.show()\n",
    "\n",
    "\n",
    "#plt.xlim([80, 220])\n",
    "\n"
   ]
  },
  {
   "cell_type": "markdown",
   "metadata": {},
   "source": [
    "## 4. Los tiempos de vida de las baterías en cierta aplicación se distribuyen normalmente con media de 50 horas y desviación estándar de cinco horas. Determine la probabilidad de que se elija aleatoriamente una batería que dure entre 42 y 52 horas.\n"
   ]
  },
  {
   "cell_type": "code",
   "execution_count": 26,
   "metadata": {},
   "outputs": [
    {
     "name": "stdout",
     "output_type": "stream",
     "text": [
      "0.6006224499107662\n"
     ]
    }
   ],
   "source": [
    "X_Ej4 = stats.norm(50, 5)            #Declarar X_Ej4 como una variable normal con media 50 y desviacion estandar 5\n",
    "\n",
    "print(X_Ej4.cdf(52)-X_Ej4.cdf(42))   #Cuando se usa la densidad de probabilidad acumulada (cdf), \n",
    "                                          #no es necesario convertir a puntaje Z\n"
   ]
  },
  {
   "cell_type": "markdown",
   "metadata": {},
   "source": [
    "Con referencia al ejemplo anterior, determine el 40o. percentil de los tiempos de vida de las baterías."
   ]
  },
  {
   "cell_type": "code",
   "execution_count": 39,
   "metadata": {},
   "outputs": [
    {
     "name": "stdout",
     "output_type": "stream",
     "text": [
      "0.4005205319006747\n"
     ]
    }
   ],
   "source": [
    "print(X_Ej4.cdf(48.74))"
   ]
  },
  {
   "cell_type": "markdown",
   "metadata": {},
   "source": [
    "## 5. Un proceso fabrica cojinetes de bolas cuyos diámetros se distribuyen normalmente con media de 2.505 cm y desviación estándar de 0.008 cm. Las especificaciones requieren que el diámetro esté dentro del intervalo 2.5 ± 0.01 cm. ¿Qué proporción de cojinetes de bolas cumple con la especificación? \n"
   ]
  },
  {
   "cell_type": "code",
   "execution_count": 40,
   "metadata": {},
   "outputs": [
    {
     "name": "stdout",
     "output_type": "stream",
     "text": [
      "0.7036181091860311\n"
     ]
    }
   ],
   "source": [
    "X_Ej5 = stats.norm(2.505, 0.008)\n",
    "print(X_Ej5.cdf(2.51)-X_Ej5.cdf(2.49))"
   ]
  },
  {
   "cell_type": "code",
   "execution_count": null,
   "metadata": {},
   "outputs": [],
   "source": []
  },
  {
   "cell_type": "markdown",
   "metadata": {},
   "source": [
    "## Se lanza al aire una moneda diez veces."
   ]
  },
  {
   "cell_type": "markdown",
   "metadata": {},
   "source": [
    " ¿Cuál es la probabilidad de obtener exactamente tres veces “cara”?"
   ]
  },
  {
   "cell_type": "code",
   "execution_count": 15,
   "metadata": {},
   "outputs": [
    {
     "name": "stdout",
     "output_type": "stream",
     "text": [
      "0.11718750000000014\n"
     ]
    },
    {
     "data": {
      "image/png": "[encoded data removed]",
      "text/plain": [
       "<Figure size 432x288 with 1 Axes>"
      ]
     },
     "metadata": {
      "needs_background": "light"
     },
     "output_type": "display_data"
    }
   ],
   "source": [
    "n_EX = 10                    #Numero de ensayos\n",
    "p_EX = 0.5               #Probabilidad de exito\n",
    "\n",
    "x_EX = stats.binom(n_EX, p_EX)   # Declarar X como variable aleatoria binomial\n",
    "\n",
    "print(x_EX.pmf(3))           # P(X = 3)\n",
    "\n",
    "e_EX = list(range(n_EX + 1))                   # Python no incluye el limite derecho en el rango     \n",
    "\n",
    "# Lista de valores de la funcion de masa\n",
    "dist_binEX = [stats.binom.pmf(e, n_EX, p_EX) for e in e_EX ]\n",
    "\n",
    "# Grafico \n",
    "plt.bar(e_EX, dist_binEX)\n",
    "plt.show()"
   ]
  },
  {
   "cell_type": "markdown",
   "metadata": {},
   "source": [
    "Determine la media del número de caras obtenidas.\n",
    "\n",
    "Determine la varianza del número de caras obtenidas.\n"
   ]
  },
  {
   "cell_type": "code",
   "execution_count": 8,
   "metadata": {},
   "outputs": [
    {
     "name": "stdout",
     "output_type": "stream",
     "text": [
      "5.0\n",
      "2.5\n"
     ]
    }
   ],
   "source": [
    "n_EX = 10                    #Numero de ensayos\n",
    "p_EX = 0.5               #Probabilidad de exito\n",
    "\n",
    "x_EX = stats.binom(n_EX, p_EX)   # Declarar X como variable aleatoria binomial\n",
    "\n",
    "print(x_EX.mean())       # E[X]\n",
    "print(x_EX.var())       # Var(X)\n"
   ]
  },
  {
   "cell_type": "markdown",
   "metadata": {},
   "source": [
    "## Suponga que 0.0003 de los contenedores plásticos producidos en cierto proceso tiene pequeños agujeros que los dejan inservibles. X representa el número de contenedores en una muestra aleatoria de 10 000 que tienen este defecto. Determine"
   ]
  },
  {
   "cell_type": "code",
   "execution_count": 27,
   "metadata": {},
   "outputs": [
    {
     "name": "stdout",
     "output_type": "stream",
     "text": [
      "0.22404180765538775\n",
      "0.7654761761559082\n",
      "0.6161149710523164\n",
      "0.14936120510359188\n",
      "0.16803135574154077\n",
      "0.7654761761559081\n"
     ]
    }
   ],
   "source": [
    "lamEX = 0.0003*10000\n",
    "EX_P = stats.poisson(lamEX) \n",
    "print(EX_P.pmf(3))     \n",
    "print(EX_P.cdf(4)-EX_P.pmf(0))\n",
    "print(EX_P.cdf(4)-EX_P.cdf(1))\n",
    "print(EX_P.pmf(1))      \n",
    "print(EX_P.pmf(4))      \n",
    "print(EX_P.pmf(1)+EX_P.pmf(2)+EX_P.pmf(3)+EX_P.pmf(4))"
   ]
  },
  {
   "cell_type": "code",
   "execution_count": 28,
   "metadata": {},
   "outputs": [
    {
     "data": {
      "text/plain": [
       "2.9999999999999996"
      ]
     },
     "execution_count": 28,
     "metadata": {},
     "output_type": "execute_result"
    }
   ],
   "source": [
    "lamEX"
   ]
  },
  {
   "cell_type": "code",
   "execution_count": 22,
   "metadata": {},
   "outputs": [
    {
     "data": {
      "text/plain": [
       "2.9999999999999996"
      ]
     },
     "execution_count": 22,
     "metadata": {},
     "output_type": "execute_result"
    }
   ],
   "source": [
    "0.0003*10000"
   ]
  },
  {
   "cell_type": "code",
   "execution_count": null,
   "metadata": {},
   "outputs": [],
   "source": []
  }
 ],
 "metadata": {
  "kernelspec": {
   "display_name": "Python 3",
   "language": "python",
   "name": "python3"
  },
  "language_info": {
   "codemirror_mode": {
    "name": "ipython",
    "version": 3
   },
   "file_extension": ".py",
   "mimetype": "text/x-python",
   "name": "python",
   "nbconvert_exporter": "python",
   "pygments_lexer": "ipython3",
   "version": "3.8.5"
  }
 },
 "nbformat": 4,
 "nbformat_minor": 4
}
